{
 "cells": [
  {
   "cell_type": "markdown",
   "metadata": {},
   "source": [
    "This is the test for forward algorithm"
   ]
  },
  {
   "cell_type": "code",
   "execution_count": 12,
   "metadata": {},
   "outputs": [],
   "source": [
    "from PattRecClasses import GaussD, HMM, MarkovChain\n",
    "import numpy as np\n",
    "\n",
    "g1 = GaussD( means=[0], stdevs=[1] )   \n",
    "g2 = GaussD( means=[3], stdevs=[2] )   \n",
    "\n",
    "xtest = np.array([-0.2, 2.6, 1.3])"
   ]
  },
  {
   "cell_type": "code",
   "execution_count": 13,
   "metadata": {},
   "outputs": [
    {
     "name": "stdout",
     "output_type": "stream",
     "text": [
      "Infinite:\n",
      "AHat matrix:\n",
      "[[1.     0.3847 0.4591]\n",
      " [0.     0.6153 0.5409]]\n",
      "c value: \n",
      "[1.     0.1625 0.8881]\n",
      "NonfiniteHMM:\n",
      "betaHat:\n",
      "[[1.     6.7973 1.126 ]\n",
      " [5.2223 5.7501 1.126 ]]\n"
     ]
    }
   ],
   "source": [
    "#Nonfinite\n",
    "nonfinitemc = MarkovChain( np.array([1, 0]), np.array([[0.9, 0.1], [0.1, 0.9]])) \n",
    "nonfiniteHMM  = HMM(nonfinitemc, [g1, g2]) \n",
    "bmat = nonfiniteHMM.prob(xtest, True)\n",
    "alpha, c = nonfinitemc.forward(bmat)\n",
    "print(\"Infinite:\")\n",
    "print(\"AHat matrix:\")\n",
    "print(np.around(alpha, 4))\n",
    "print(\"c value: \")\n",
    "print(np.around(c, 4))\n",
    "beta = nonfinitemc.backward(bmat, c)\n",
    "print(\"NonfiniteHMM:\")\n",
    "print(\"betaHat:\")\n",
    "print(np.around(beta, 4))\n"
   ]
  },
  {
   "cell_type": "code",
   "execution_count": 14,
   "metadata": {},
   "outputs": [
    {
     "name": "stdout",
     "output_type": "stream",
     "text": [
      "Finite:\n",
      "AHat matrix:\n",
      "[[1.     0.3847 0.4189]\n",
      " [0.     0.6153 0.5811]]\n",
      "c value: \n",
      "[1.     0.1625 0.8266 0.0581]\n",
      "betaHat:\n",
      "[[ 9.7208 20.8789  2.0818]\n",
      " [75.7384 84.1538 18.7364]]\n"
     ]
    }
   ],
   "source": [
    "#Finite\n",
    "finitemc = MarkovChain(np.array([1, 0]), np.array([[0.9, 0.1, 0], [0, 0.9, 0.1]])) \n",
    "\n",
    "finiteHMM  = HMM(finitemc, [g1, g2]) \n",
    "bmat1 = finiteHMM.prob(xtest, True)\n",
    "alpha1, c1 = finitemc.forward(bmat1)\n",
    "print(\"Finite:\")\n",
    "print(\"AHat matrix:\")\n",
    "print(np.around(alpha1, 4))\n",
    "print(\"c value: \")\n",
    "print(np.around(c1, 4))\n",
    "beta1 = finitemc.backward(bmat1, c1)\n",
    "print(\"betaHat:\")\n",
    "print(np.around(beta1, 4))"
   ]
  },
  {
   "cell_type": "code",
   "execution_count": 15,
   "metadata": {},
   "outputs": [
    {
     "name": "stdout",
     "output_type": "stream",
     "text": [
      "logprob:  -9.187726979475208\n",
      "[0.39104269 0.03177681 0.14165001 0.05811253]\n"
     ]
    }
   ],
   "source": [
    "#Test logprob\n",
    "bmat2 = finiteHMM.prob(xtest, False)\n",
    "alpha2, c2 = finitemc.forward(bmat2)\n",
    "cp = finiteHMM.logprob(c2)\n",
    "print(\"logprob: \", cp)\n",
    "print(c2)"
   ]
  }
 ],
 "metadata": {
  "kernelspec": {
   "display_name": "base",
   "language": "python",
   "name": "python3"
  },
  "language_info": {
   "codemirror_mode": {
    "name": "ipython",
    "version": 3
   },
   "file_extension": ".py",
   "mimetype": "text/x-python",
   "name": "python",
   "nbconvert_exporter": "python",
   "pygments_lexer": "ipython3",
   "version": "3.10.9"
  }
 },
 "nbformat": 4,
 "nbformat_minor": 2
}
