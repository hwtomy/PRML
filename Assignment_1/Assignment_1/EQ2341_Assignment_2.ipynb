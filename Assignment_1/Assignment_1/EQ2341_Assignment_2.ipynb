{
 "cells": [
  {
   "cell_type": "markdown",
   "metadata": {},
   "source": [
    "This is the test for forward and backward algorithm along with observation possibility"
   ]
  },
  {
   "cell_type": "code",
   "execution_count": 1,
   "metadata": {},
   "outputs": [],
   "source": [
    "from PattRecClasses import GaussD, HMM, MarkovChain\n",
    "import numpy as np\n",
    "\n",
    "g1 = GaussD( means=[0], stdevs=[1] )   \n",
    "g2 = GaussD( means=[3], stdevs=[2] )   \n",
    "\n",
    "xtest = np.array([-0.2, 2.6, 1.3])"
   ]
  },
  {
   "cell_type": "markdown",
   "metadata": {},
   "source": [
    "The following is the block for testing infinite HMM's forward and backward function"
   ]
  },
  {
   "cell_type": "code",
   "execution_count": 2,
   "metadata": {},
   "outputs": [
    {
     "name": "stdout",
     "output_type": "stream",
     "text": [
      "Infinite HMM:\n",
      "AlphaHat matrix:\n",
      "[[1.     0.3847 0.4591]\n",
      " [0.     0.6153 0.5409]]\n",
      "C value: \n",
      "[1.     0.1625 0.8881]\n",
      "BetaHat matrix:\n",
      "[[1.     6.7973 1.126 ]\n",
      " [5.2223 5.7501 1.126 ]]\n"
     ]
    }
   ],
   "source": [
    "#Infinite\n",
    "Infinitemc = MarkovChain( np.array([1, 0]), np.array([[0.9, 0.1], [0.1, 0.9]])) \n",
    "InfiniteHMM  = HMM(Infinitemc, [g1, g2]) \n",
    "bmat = InfiniteHMM.prob(xtest, True)\n",
    "alpha, c = Infinitemc.forward(bmat)\n",
    "print(\"Infinite HMM:\")\n",
    "print(\"AlphaHat matrix:\")\n",
    "print(np.around(alpha, 4))\n",
    "print(\"C value: \")\n",
    "print(np.around(c, 4))\n",
    "beta = Infinitemc.backward(bmat, c)\n",
    "print(\"BetaHat matrix:\")\n",
    "print(np.around(beta, 4))\n"
   ]
  },
  {
   "cell_type": "markdown",
   "metadata": {},
   "source": [
    "The following is the block for testing finite HMM's forward and backward function"
   ]
  },
  {
   "cell_type": "code",
   "execution_count": 3,
   "metadata": {},
   "outputs": [
    {
     "name": "stdout",
     "output_type": "stream",
     "text": [
      "Finite:\n",
      "AHat matrix:\n",
      "[[1.     0.3847 0.4189]\n",
      " [0.     0.6153 0.5811]]\n",
      "C value: \n",
      "[1.     0.1625 0.8266 0.0581]\n",
      "BetaHat matrix:\n",
      "[[1.     1.0389 0.    ]\n",
      " [8.4154 9.3504 2.0818]]\n"
     ]
    }
   ],
   "source": [
    "#Finite\n",
    "finitemc = MarkovChain(np.array([1, 0]), np.array([[0.9, 0.1, 0], [0, 0.9, 0.1]])) \n",
    "\n",
    "finiteHMM  = HMM(finitemc, [g1, g2]) \n",
    "bmat1 = finiteHMM.prob(xtest, True)\n",
    "alpha1, c1 = finitemc.forward(bmat1)\n",
    "print(\"Finite:\")\n",
    "print(\"AHat matrix:\")\n",
    "print(np.around(alpha1, 4))\n",
    "print(\"C value: \")\n",
    "print(np.around(c1, 4))\n",
    "beta1 = finitemc.backward(bmat1, c1)\n",
    "print(\"BetaHat matrix:\")\n",
    "print(np.around(beta1, 4))"
   ]
  },
  {
   "cell_type": "markdown",
   "metadata": {},
   "source": [
    "The following block is the test for log function"
   ]
  },
  {
   "cell_type": "code",
   "execution_count": 4,
   "metadata": {},
   "outputs": [
    {
     "name": "stdout",
     "output_type": "stream",
     "text": [
      "Observation possibility for finite HMM:  -9.187726979475208\n",
      "C value without scale [0.39104269 0.03177681 0.14165001 0.05811253]\n",
      "C value with scale [1.         0.16252347 0.82658096 0.05811253]\n"
     ]
    }
   ],
   "source": [
    "bmat2 = finiteHMM.prob(xtest, False)\n",
    "alpha2, c2 = finitemc.forward(bmat2)\n",
    "cp = finiteHMM.logprob(c2)\n",
    "print(\"Observation possibility for finite HMM: \", cp)\n",
    "print(\"C value without scale\",c2)\n",
    "print(\"C value with scale\", c1)"
   ]
  }
 ],
 "metadata": {
  "kernelspec": {
   "display_name": "base",
   "language": "python",
   "name": "python3"
  },
  "language_info": {
   "codemirror_mode": {
    "name": "ipython",
    "version": 3
   },
   "file_extension": ".py",
   "mimetype": "text/x-python",
   "name": "python",
   "nbconvert_exporter": "python",
   "pygments_lexer": "ipython3",
   "version": "3.10.9"
  }
 },
 "nbformat": 4,
 "nbformat_minor": 2
}
