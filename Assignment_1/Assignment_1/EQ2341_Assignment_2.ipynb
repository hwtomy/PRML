{
 "cells": [
  {
   "cell_type": "markdown",
   "metadata": {},
   "source": [
    "This is the test for forward algorithm"
   ]
  },
  {
   "cell_type": "code",
   "execution_count": null,
   "metadata": {},
   "outputs": [],
   "source": [
    "from PattRecClasses import GaussD, HMM, MarkovChain\n",
    "import numpy as np\n",
    "\n",
    "g1 = GaussD( means=[0], stdevs=[1] )   \n",
    "g2 = GaussD( means=[3], stdevs=[2] )   \n",
    "\n",
    "xtest = np.array([0.4, 3.0, 1.2])"
   ]
  },
  {
   "cell_type": "code",
   "execution_count": null,
   "metadata": {},
   "outputs": [],
   "source": [
    "#Nonfinite\n",
    "nonfinitemc = MarkovChain( np.array([1, 0]), np.array([[0.8, 0.2], [0.25, 0.75]])) \n",
    "nonfiniteHMM  = HMM(nonfinitemc, [g1, g2]) \n",
    "scaledProbOfObservations = nonfiniteHMM.prob(xtest)\n",
    "alpha, c = nonfinitemc.forward(scaledProbOfObservations)\n",
    "print(\"infinite:\")\n",
    "print(\"aHat:\")\n",
    "print(np.around(alpha, 3))\n",
    "print(\"c: \")\n",
    "print(np.around(c, 3))\n"
   ]
  },
  {
   "cell_type": "code",
   "execution_count": null,
   "metadata": {},
   "outputs": [],
   "source": [
    "#finite\n",
    "finitemc = MarkovChain(np.array([0.75,0.25, 0]), np.array([[0.79, 0.2, 0.01], [0.25, 0.74, 0.01]])) \n",
    "\n",
    "finiteDurationHMM  = HMM(finitemc, [g1, g2]) \n",
    "scaledProbOfObservations = finiteDurationHMM.prob(xtest)\n",
    "alpha, c = finitemc.forward(scaledProbOfObservations)\n",
    "print(\"finite:\")\n",
    "print(\"aHat:\")\n",
    "print(np.around(alpha, 3))\n",
    "print(\"c: \")\n",
    "print(np.around(c, 3))"
   ]
  },
  {
   "cell_type": "code",
   "execution_count": null,
   "metadata": {},
   "outputs": [],
   "source": [
    "#Test logprob\n",
    "logprob = finiteDurationHMM.logprob(xtest)\n",
    "print(\"logprob: \", logprob)"
   ]
  },
  {
   "cell_type": "code",
   "execution_count": null,
   "metadata": {},
   "outputs": [],
   "source": []
  }
 ],
 "metadata": {
  "kernelspec": {
   "display_name": "base",
   "language": "python",
   "name": "python3"
  },
  "language_info": {
   "name": "python",
   "version": "3.10.9"
  }
 },
 "nbformat": 4,
 "nbformat_minor": 2
}
