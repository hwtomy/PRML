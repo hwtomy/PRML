{
 "cells": [
  {
   "cell_type": "raw",
   "source": [
    "# A.1 HMM Signal Source"
   ],
   "metadata": {
    "collapsed": false
   }
  },
  {
   "cell_type": "markdown",
   "metadata": {},
   "source": [
    "In this first project assignment you will discover how an HMM can generate a sequence with a kind of structured randomness that is typical of many real-life signals. You will do this by coding an HMM signal source in Python. You will also have to verify that your implementation is correct. You must submit your work before the deadline, as instructed on the course project web page."
   ]
  },
  {
   "cell_type": "markdown",
   "metadata": {},
   "source": [
    "This assignment will be based on a few classes that have been provided to you in the PattRecClasses directory. The PattRecClasses package contains definitions of a few classes that are intended to work together. Each class is defined in a separate Python file:\n",
    "\n",
    "    DiscreteD   %Implements discrete distribution\n",
    "    GaussD      %Implements a Gaussian scalar or vector distribution\n",
    "    HMM         %A general HMM class\n",
    "    MarkovChain %Implements the state-generator part of an HMM"
   ]
  },
  {
   "cell_type": "code",
   "metadata": {
    "ExecuteTime": {
     "end_time": "2024-04-21T21:22:23.670017Z",
     "start_time": "2024-04-21T21:22:23.655615Z"
    }
   },
   "source": [
    "from PattRecClasses import DiscreteD, GaussD, HMM, MarkovChain\n",
    "from matplotlib import pyplot as plt\n",
    "\n",
    "import numpy as np"
   ],
   "outputs": [],
   "execution_count": 7
  },
  {
   "cell_type": "markdown",
   "metadata": {},
   "source": [
    "An HMM object consists of one object called StateGen of class MarkovChain and one OutputDistr object array of class DiscreteD, GaussD, or GaussMixD, to represent the state-conditional HMM output distributions. \n",
    "\n",
    "> The purpose of this class structure is to allow extensions to any type of output probability distribution without changing the other classes. \n",
    "\n",
    "You can easily define additional distribution types yourself, if needed. Regardless of its type, the array of output distributions must include exactly one element for each of the possible MarkovChain states. It is very easy to define a simple HMM using the various class constructor methods:"
   ]
  },
  {
   "cell_type": "code",
   "metadata": {
    "ExecuteTime": {
     "end_time": "2024-04-21T16:27:21.191519Z",
     "start_time": "2024-04-21T16:27:21.185519Z"
    }
   },
   "source": [
    "\"\"\"\n",
    "# Example: Define and use a simple infinite-duration HMM\n",
    "\n",
    "# State generator\n",
    "mc = MarkovChain( np.array( [ 0.5, 0.5 ] ), np.array( [ [ 0.9, 0.1 ], [ 0.05, 0.95 ] ] ) ) \n",
    "\n",
    "g1 = GaussD( means=[0], stdevs=[1] )   # Distribution for state = 1\n",
    "g2 = GaussD( means=[2], stdevs=[3] )   # Distribution for state = 2\n",
    "h  = HMM( mc, [g1, g2])                # The HMM\n",
    "\n",
    "# Generate an output sequence\n",
    "x,s = h.rand( 100 )\n",
    "\n",
    "plt.plot( x[0] )\n",
    "\"\"\""
   ],
   "outputs": [
    {
     "data": {
      "text/plain": [
       "'\\n# Example: Define and use a simple infinite-duration HMM\\n\\n# State generator\\nmc = MarkovChain( np.array( [ 0.5, 0.5 ] ), np.array( [ [ 0.9, 0.1 ], [ 0.05, 0.95 ] ] ) ) \\n\\ng1 = GaussD( means=[0], stdevs=[1] )   # Distribution for state = 1\\ng2 = GaussD( means=[2], stdevs=[3] )   # Distribution for state = 2\\nh  = HMM( mc, [g1, g2])                # The HMM\\n\\n# Generate an output sequence\\nx,s = h.rand( 100 )\\n\\nplt.plot( x[0] )\\n'"
      ]
     },
     "execution_count": 3,
     "metadata": {},
     "output_type": "execute_result"
    }
   ],
   "execution_count": 3
  },
  {
   "cell_type": "markdown",
   "metadata": {},
   "source": [
    "Exampe of plot for the above code. (You can uncomment and test the above code when you have completed A.1.1.)\n",
    "\n",
    "<img src=\"images/hmm_example.png\" alt=\"test example\" style=\"width: 300px;\">"
   ]
  },
  {
   "cell_type": "markdown",
   "metadata": {},
   "source": [
    "You will find that many of the class methods have already been implemented for you, although the code can probably be improved."
   ]
  },
  {
   "cell_type": "markdown",
   "metadata": {},
   "source": [
    "## A.1.1 HMM Random Source"
   ]
  },
  {
   "cell_type": "markdown",
   "metadata": {},
   "source": [
    "Your task is to code and verify Python methods to generate an output sequence of random real numbers $x = (x_1 ...x_t ...x_T)$ from an HMM with scalar Gaussian output distributions. However, your code should be general enough to handle a vector random variables as well.\n",
    "\n",
    "An HMM output sequence is always the result of two separate random operations: First, the hidden Markov chain must generate an integer state sequence $s = (s_1 . . . s_T )$.\n",
    "\n",
    "Then, for each element st in the state sequence, the corresponding state-conditional output distribution generates the random observable output X_t. In the PattRecClasses code package three different functions are involved in the process: @HMM/rand, @MarkovChain/rand, and for example @GaussD/rand, if the output distribution is an instance of the GaussD class."
   ]
  },
  {
   "cell_type": "markdown",
   "metadata": {},
   "source": [
    "### Tasks\n",
    "\n",
    "1. Open @DiscreteD and finish the code of the <i>rand function</i> to perform as specified by the functions comments. Save the file, restart the kernel and reimport the class DiscreteD. \n",
    "\n",
    "2. Open @MarkovChain and finish the code of the <i>rand function</i> to perform as specified by the functions comments. Save the file, restart the kernel and reimport the class MarkovChain. \n",
    "Since the initial state of a Markov chain, and its transitions conditioned on the current state, can be seen as discrete random variables, you can use the DiscreteD class and the rand method you implemented in the previous step to simplify your work here. Note that your function must be able to generate output sequences for either an infinite-duration or a finite-duration Markov chain. Of course, your function should only produce sequences of finite length, even if the HMM itself could in principle continue forever.\n",
    "\n",
    "3. Open @HMM and finish the code of the <i>rand function</i> to perform as specified by the functions comments. Save the file, restart the kernel and reimport the class HMM. \n"
   ]
  },
  {
   "cell_type": "markdown",
   "metadata": {},
   "source": [
    "## A.1.2 Verify the MarkovChain and HMM Sources"
   ]
  },
  {
   "cell_type": "markdown",
   "metadata": {},
   "source": [
    "To verify your code, use the following infinite-duration HMM $\\lambda = {q, A, B}$ as a first test example:\n",
    "\n",
    "<img src=\"images/a_1_2_1.png\" alt=\"test example\" style=\"width: 500px;\">\n",
    "\n",
    "where $b_1(x)$ is a scalar Gaussian density function with mean $\\mu_1 = 0$ and standard deviation $\\sigma_1 = 1$, and $b_2(x)$ is a similar distribution with mean $\\mu_2 = 3$ and standard deviation $\\sigma_2 = 2$.\n",
    "\n",
    "1. To verify your Markov chain code, calculate $P (S_t = j),\\,j ∈ {1, 2}$ for $t = 1,2,3,\\dots$ theoretically, by hand, to verify that $P(S_t = j)$ is actually constant for all $t$.\n",
    "2. Use your Markov chain rand function to generate a sequence of $T = 10000$ state integer numbers from the test Markov chain. Calculate the relative frequency of occurrences of $S_t = 1$ and $S_t = 2$. The relative frequencies should of course be approximately equal to $P(S_t)$.\n",
    "3. To verify your HMM rand method, first calculate $E[X_t]$ and $var[X_t]$ theoretically. The conditional expectation formulas $\\mu_X = E[X] = E_Z [E_X [X|Z]]$ and $var [X] = E_Z [var_X [X|Z]] + var_Z [E_X [X|Z]]$ apply generally whenever some variable $X$ depends on another variable $Z$ and may be useful for the calculations. Then use your HMM rand function to generate a sequence of $T = 10000$ output scalar random numbers $x = (x_1 \\dots x_t \\dots x_T)$ from the given HMM test example. Use the standard Numpy functions $np.mean()$ and $np.var()$ to calculate the mean and variance of your generated sequence. The result should agree approximately with your theoretical values.\n",
    "4. To get an impression of how the HMM behaves, use @HMM/rand to generate a series of $500$ contiguous samples $X_t$ from the HMM, and plot them as a function of $t$. Do this many times until you have a good idea of what characterizes typical output of this HMM, and what structure there is to the randomness. Describe the behaviour in one or two sentences in your report. Also include one such plot in the report, labelled using title, xlabel, and ylabel to clearly show which variable is plotted along which axis. You should do this for every plot in the course project.\n",
    "5. Create a new HMM, identical to the previous one except that it has $\\mu_2 = \\mu_1 = 0$. Generate and plot $500$ contiguous values several times using @HMM/rand for this HMM. What is similar about how the two HMMs behave? What is different with this new HMM? Is it possible to estimate the state sequence $S$ of the underlying Markov chain from the observed output variables $x$ in this case?\n",
    "6. Another aspect you must check is that your rand-function works for _finite-duration_ HMMs. Define a new test HMM of your own and verify that your function returns reasonable results.\n",
    "7. Finally, your rand function should work also when the state-conditional output distributions generate random vectors. Define a new test HMM of your own where the outputs are Gaussian vector distributions, and verify that this also works with your code. (Note that a single instance of the GaussD class is capable of generating vector output; stacking several GaussD-objects is not correct.) At least one of the output distributions should have a non-diagonal covariance matrix such as\n",
    "\n",
    "<img src=\"images/a_1_2_2.png\" alt=\"test example\" style=\"width: 160px;\">\n",
    "\n",
    "#### You should write the code used to answer questions 2, 3, 4, 5, 6, 7 below in the dedicated blocs."
   ]
  },
  {
   "cell_type": "markdown",
   "metadata": {},
   "source": [
    "### Question 2: "
   ]
  },
  {
   "cell_type": "code",
   "metadata": {
    "ExecuteTime": {
     "end_time": "2024-04-21T21:22:32.375744Z",
     "start_time": "2024-04-21T21:22:32.343055Z"
    }
   },
   "source": [
    "q=np.asarray([0.75,0.25])\n",
    "A=np.asarray(np.asarray([[0.99,0.01],[0.03,0.97]]))\n",
    "mc=MarkovChain(q,A)\n",
    "result = mc.rand(10000)\n",
    "\n",
    "#calculate frequencies\n",
    "elements_count = {}\n",
    "for element in result:\n",
    "    if element in elements_count:\n",
    "        elements_count[element] += 1\n",
    "    else:\n",
    "        elements_count[element] = 1\n",
    "for key, value in elements_count.items():\n",
    "    print(f\"{key}: {value/10000}\")\n"
   ],
   "outputs": [
    {
     "ename": "ValueError",
     "evalue": "'p' must be 1-dimensional",
     "output_type": "error",
     "traceback": [
      "\u001B[1;31m---------------------------------------------------------------------------\u001B[0m",
      "\u001B[1;31mValueError\u001B[0m                                Traceback (most recent call last)",
      "Cell \u001B[1;32mIn[8], line 4\u001B[0m\n\u001B[0;32m      2\u001B[0m A\u001B[38;5;241m=\u001B[39mnp\u001B[38;5;241m.\u001B[39masarray(np\u001B[38;5;241m.\u001B[39masarray([[\u001B[38;5;241m0.99\u001B[39m,\u001B[38;5;241m0.01\u001B[39m],[\u001B[38;5;241m0.03\u001B[39m,\u001B[38;5;241m0.97\u001B[39m]]))\n\u001B[0;32m      3\u001B[0m mc\u001B[38;5;241m=\u001B[39mMarkovChain(q,A)\n\u001B[1;32m----> 4\u001B[0m result \u001B[38;5;241m=\u001B[39m \u001B[43mmc\u001B[49m\u001B[38;5;241;43m.\u001B[39;49m\u001B[43mrand\u001B[49m\u001B[43m(\u001B[49m\u001B[38;5;241;43m10000\u001B[39;49m\u001B[43m)\u001B[49m\n\u001B[0;32m      6\u001B[0m \u001B[38;5;66;03m#calculate frequencies\u001B[39;00m\n\u001B[0;32m      7\u001B[0m elements_count \u001B[38;5;241m=\u001B[39m {}\n",
      "File \u001B[1;32mF:\\PRML\\Assignment_1\\Assignment_1\\PattRecClasses\\MarkovChain.py:101\u001B[0m, in \u001B[0;36mMarkovChain.rand\u001B[1;34m(self, tmax)\u001B[0m\n\u001B[0;32m     99\u001B[0m \u001B[38;5;28;01melse\u001B[39;00m:\n\u001B[0;32m    100\u001B[0m     \u001B[38;5;28;01mfor\u001B[39;00m n \u001B[38;5;129;01min\u001B[39;00m \u001B[38;5;28mrange\u001B[39m(tmax):\n\u001B[1;32m--> 101\u001B[0m         mrnext \u001B[38;5;241m=\u001B[39m \u001B[43mDiscreteD\u001B[49m\u001B[43m(\u001B[49m\u001B[38;5;28;43mself\u001B[39;49m\u001B[38;5;241;43m.\u001B[39;49m\u001B[43mA\u001B[49m\u001B[43m[\u001B[49m\u001B[43mmr\u001B[49m\u001B[43m,\u001B[49m\u001B[43m:\u001B[49m\u001B[43m]\u001B[49m\u001B[43m)\u001B[49m\u001B[38;5;241;43m.\u001B[39;49m\u001B[43mrand\u001B[49m\u001B[43m(\u001B[49m\u001B[38;5;241;43m1\u001B[39;49m\u001B[43m)\u001B[49m\n\u001B[0;32m    102\u001B[0m         mr \u001B[38;5;241m=\u001B[39m np\u001B[38;5;241m.\u001B[39mappend(mr, mrnext)\n\u001B[0;32m    103\u001B[0m     \u001B[38;5;28;01mreturn\u001B[39;00m mr\n",
      "File \u001B[1;32mF:\\PRML\\Assignment_1\\Assignment_1\\PattRecClasses\\DiscreteD.py:34\u001B[0m, in \u001B[0;36mDiscreteD.rand\u001B[1;34m(self, nData)\u001B[0m\n\u001B[0;32m     32\u001B[0m \u001B[38;5;28;01mfor\u001B[39;00m i \u001B[38;5;129;01min\u001B[39;00m \u001B[38;5;28mrange\u001B[39m(N):\n\u001B[0;32m     33\u001B[0m     value[i] \u001B[38;5;241m=\u001B[39m i\u001B[38;5;241m+\u001B[39m\u001B[38;5;241m1\u001B[39m\n\u001B[1;32m---> 34\u001B[0m R \u001B[38;5;241m=\u001B[39m \u001B[43mnp\u001B[49m\u001B[38;5;241;43m.\u001B[39;49m\u001B[43mrandom\u001B[49m\u001B[38;5;241;43m.\u001B[39;49m\u001B[43mchoice\u001B[49m\u001B[43m(\u001B[49m\u001B[43mvalue\u001B[49m\u001B[43m,\u001B[49m\u001B[43m \u001B[49m\u001B[43mnData\u001B[49m\u001B[43m,\u001B[49m\u001B[43m \u001B[49m\u001B[43mp\u001B[49m\u001B[38;5;241;43m=\u001B[39;49m\u001B[38;5;28;43mself\u001B[39;49m\u001B[38;5;241;43m.\u001B[39;49m\u001B[43mprobMass\u001B[49m\u001B[43m)\u001B[49m\n",
      "File \u001B[1;32mmtrand.pyx:930\u001B[0m, in \u001B[0;36mnumpy.random.mtrand.RandomState.choice\u001B[1;34m()\u001B[0m\n",
      "\u001B[1;31mValueError\u001B[0m: 'p' must be 1-dimensional"
     ]
    }
   ],
   "execution_count": 8
  },
  {
   "cell_type": "markdown",
   "metadata": {},
   "source": [
    "### Question 3:"
   ]
  },
  {
   "cell_type": "code",
   "execution_count": null,
   "metadata": {},
   "outputs": [],
   "source": [
    "mc = MarkovChain(q, A) \n",
    "\n",
    "g1 = GaussD( means=[0], stdevs=[1] )   # Distribution for state = 1\n",
    "g2 = GaussD( means=[3], stdevs=[2] )   # Distribution for state = 2\n",
    "hmm  = HMM( mc, [g1, g2])                # The HMM\n",
    "\n",
    "# Generate an output sequence\n",
    "x,s = hmm.rand( 10000 )\n",
    "var = np.var(x)\n",
    "E = np.mean(x)\n",
    "print(\"var: \", var)\n",
    "print(\"mean: \", E)\n"
   ]
  },
  {
   "cell_type": "markdown",
   "metadata": {},
   "source": [
    "### Question 4: "
   ]
  },
  {
   "cell_type": "code",
   "execution_count": null,
   "metadata": {},
   "outputs": [],
   "source": [
    "x,s = hmm.rand( 500 )\n",
    "plt.figure(figsize=(10,5))\n",
    "plt.plot(x[0,:])\n",
    "plt.xlabel(\"t\")\n",
    "plt.ylabel(\"X[t]\")\n",
    "plt.title(\"Example output over 500 states\")\n",
    "plt.show()\n",
    "plt.figure(figsize=(10,5))\n",
    "plt.plot(s)\n",
    "plt.xlabel(\"t\")\n",
    "plt.ylabel(\"S[t]\")\n",
    "plt.title(\"State Transitions over 500 transitions\")\n",
    "plt.show()\n"
   ]
  },
  {
   "cell_type": "markdown",
   "metadata": {},
   "source": [
    "### Question 5: "
   ]
  },
  {
   "cell_type": "code",
   "execution_count": null,
   "metadata": {},
   "outputs": [],
   "source": [
    "mc = MarkovChain(q, A) \n",
    "\n",
    "g1 = GaussD( means=[0], stdevs=[1] )   # Distribution for state = 1\n",
    "g2 = GaussD( means=[0], stdevs=[2] )   # Distribution for state = 2\n",
    "hmm  = HMM( mc, [g1, g2])                # The HMM\n",
    "\n",
    "# Generate an output sequence\n",
    "x,s = hmm.rand( 500 )\n",
    "plt.figure(figsize=(10,5))\n",
    "plt.plot(x[0,:])\n",
    "plt.xlabel(\"t\")\n",
    "plt.ylabel(\"X[t]\")\n",
    "plt.title(\"Example output over 500 states\")\n",
    "plt.show()\n",
    "plt.figure(figsize=(10,5))\n",
    "plt.plot(s)\n",
    "plt.xlabel(\"t\")\n",
    "plt.ylabel(\"S[t]\")\n",
    "plt.title(\"State Transitions over 500 transitions\")\n",
    "plt.show()\n"
   ]
  },
  {
   "cell_type": "markdown",
   "metadata": {},
   "source": [
    "### Question 6: "
   ]
  },
  {
   "cell_type": "code",
   "execution_count": null,
   "metadata": {},
   "outputs": [],
   "source": [
    "q = np.asarray([0.75, 0.25, 0]) # we do not start on the final state\n",
    "A = np.asarray(np.asarray([[0.98, 0.019, 0.001],[0.039, 0.96, 0.001]])) # small chance of reaching final state and no transitions from final state to any others\n",
    "mc = MarkovChain(q,A)\n",
    "g1 = GaussD( means=[0], stdevs=[1] )   # Distribution for state = 1\n",
    "g2 = GaussD( means=[3], stdevs=[2] )   # Distribution for state = 2\n",
    "hmm  = HMM( mc, [g1, g2])                # The HMM\n",
    "\n",
    "# Generate an output sequence\n",
    "x,s = hmm.rand( 1000 )\n",
    "plt.figure(figsize=(10,5))\n",
    "plt.plot(x[0,:])\n",
    "plt.xlabel(\"t\")\n",
    "plt.ylabel(\"X[t]\")\n",
    "plt.title(\"Example output over 1000 max iterations\")\n",
    "plt.show()\n",
    "plt.figure(figsize=(10,5))\n",
    "plt.plot(s)\n",
    "plt.xlabel(\"t\")\n",
    "plt.ylabel(\"S[t]\")\n",
    "plt.title(\"State Transitions over 1000 max iterations\")\n",
    "plt.show()\n",
    "print(\"maximum iteration: \", 1000)\n",
    "print(\"total number of states reached before exiting:\", len(s))\n",
    "#benchmark to see average cutoff point over 100 runs\n",
    "cutoffs=[]\n",
    "for i in range(100):\n",
    "    x,s = hmm.rand(1000)\n",
    "    cutoffs.append(len(s))\n",
    "print(\"average cut off over 100 runs: \", np.mean(cutoffs))\n"
   ]
  },
  {
   "cell_type": "markdown",
   "metadata": {},
   "source": [
    "### Question 7: "
   ]
  },
  {
   "cell_type": "code",
   "execution_count": null,
   "metadata": {},
   "outputs": [],
   "source": [
    "mc = MarkovChain( np.array( [ 0.75, 0.25 ] ), np.array( [ [ 0.99, 0.01], [ 0.03, 0.97 ] ] ) ) \n",
    "\n",
    "g1 = GaussD( means=[0, 0], cov=np.asarray([[2,1],[1,4]]) )   # Distribution for state = 1\n",
    "g2 = GaussD( means=[3, 3], stdevs=np.asarray([[1,0],[0,1]]) )   # Distribution for state = 2\n",
    "hmm  = HMM( mc, [g1, g2])                # The HMM\n",
    "x,s = hmm.rand(500)\n",
    "plt.figure(figsize=(10,5))\n",
    "plt.plot(x[0,:],label=\"x0[n]\")\n",
    "plt.plot(x[1,:],label=\"x1[n]\")\n",
    "plt.xlabel(\"t\")\n",
    "plt.ylabel(\"X[t]\")\n",
    "plt.title(\"Example output of the HMM with 2 features over 500 states\")\n",
    "plt.legend()\n",
    "plt.show()\n",
    "plt.figure(figsize=(10,5))\n",
    "plt.plot(s)\n",
    "plt.xlabel(\"t\")\n",
    "plt.ylabel(\"S[t]\")\n",
    "plt.title(\"State Transitions over 500 transitions\")\n",
    "plt.show()\n"
   ]
  },
  {
   "cell_type": "markdown",
   "metadata": {},
   "source": [
    "### Your submission should include\n",
    "\n",
    "* A zip file with the whole Jupyter project\n",
    "\n",
    "* A Latex report with: \n",
    "    * Your theoretically calculated $P(S_t = j)$ for the first infinite-duration HMM, and your corresponding measured relative frequencies.\n",
    "    * Your theoretically calculated $E[X_t]$ and $var[X_t]$, and your corresponding measured results.\n",
    "    * A plot of $500$ contiguous values randomized from the first infinite-duration HMM, with a description of typical output behaviour. \n",
    "    * A discussion of the output behaviour of the second infinite-duration HMM, with answers to the associated questions.\n",
    "    * The definition of your finite-duration test HMM, together with the lengths of some test sequences you obtained, and relevant code. Discuss briefly why you think those lengths are reasonable.\n",
    "    * The definition of your vector-valued test HMM, and the code you used to verify that vector output distributions work with your implementation.\n",
    "    \n",
    "#### The deadline for this project is May 24rd at 23:59"
   ]
  },
  {
   "cell_type": "code",
   "execution_count": null,
   "metadata": {},
   "outputs": [],
   "source": []
  }
 ],
 "metadata": {
  "kernelspec": {
   "display_name": "Python 3",
   "language": "python",
   "name": "python3"
  },
  "language_info": {
   "codemirror_mode": {
    "name": "ipython",
    "version": 3
   },
   "file_extension": ".py",
   "mimetype": "text/x-python",
   "name": "python",
   "nbconvert_exporter": "python",
   "pygments_lexer": "ipython3",
   "version": "3.10.9"
  }
 },
 "nbformat": 4,
 "nbformat_minor": 2
}
